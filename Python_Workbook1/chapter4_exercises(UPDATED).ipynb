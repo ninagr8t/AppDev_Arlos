{
  "nbformat": 4,
  "nbformat_minor": 0,
  "metadata": {
    "colab": {
      "provenance": [],
      "gpuType": "T4"
    },
    "kernelspec": {
      "name": "python3",
      "display_name": "Python 3"
    },
    "language_info": {
      "name": "python"
    }
  },
  "cells": [
    {
      "cell_type": "markdown",
      "source": [
        "# **Exercise 1**\n",
        "Rewrite your pay computation with time-and-a-half for overtime and create a function called compute pay which takes two parameters (hours and rate).\n",
        "```\n",
        "Enter Hours: 45\n",
        "Enter Rate: 10\n",
        "Pay: 475.0\n",
        "```"
      ],
      "metadata": {
        "id": "Zk2UU-EZyVxa"
      }
    },
    {
      "cell_type": "code",
      "source": [
        "def compute_pay(hrs, rate):\n",
        "\n",
        "\n",
        " if hrs <= 40:\n",
        "  pay = hrs * rate\n",
        " else:\n",
        "  overtime_hrs = hrs - 40\n",
        "  overtime_pay = overtime_hrs * (rate * 1.5)\n",
        "  pay = 40 * rate + overtime_pay\n",
        " return pay\n",
        "\n",
        "hrs = 45\n",
        "rate = 10\n",
        "pay = compute_pay(hrs, rate)\n",
        "\n",
        "hrs = float(input(\"Enter Hours: \"))\n",
        "rate = float(input(\"Enter Rate: \"))\n",
        "\n",
        "print(\"Pay: \", pay)"
      ],
      "metadata": {
        "id": "SWYDv2FNlGGB",
        "colab": {
          "base_uri": "https://localhost:8080/"
        },
        "outputId": "25736be1-524a-4841-b509-f32e3dcfff0e"
      },
      "execution_count": 4,
      "outputs": [
        {
          "output_type": "stream",
          "name": "stdout",
          "text": [
            "Enter Hours: 45\n",
            "Enter Rate: 10\n",
            "Pay:  475.0\n"
          ]
        }
      ]
    },
    {
      "cell_type": "markdown",
      "source": [
        "# **CHALLENGE**\n",
        "\n",
        "Write a function called computegrade that takes a score as its parameter and returns a grade as a string using the following table:\n",
        "```\n",
        "Score           Grade\n",
        "[ 97, 100]      1.0\n",
        "[ 93,  97)        1.25\n",
        "[ 89,  93)        1.5\n",
        "[ 85,  89)        1.75\n",
        "[ 81,  85)        2.0\n",
        "[ 77,  81)        2.25\n",
        "[ 74,  77)        2.5\n",
        "[ 0,   74)        3.0\n",
        "\n",
        "Run the program repeatedly to test the various different values for input.\n",
        "```"
      ],
      "metadata": {
        "id": "DCzKZjT32izj"
      }
    },
    {
      "cell_type": "code",
      "source": [
        "def compute_grade(score):\n",
        "\n",
        "  if score >= 97 and score <= 100:\n",
        "    grade = 1.0\n",
        "  elif score >= 93 and score < 97:\n",
        "    grade = 1.25\n",
        "  elif score >= 89 and score < 93:\n",
        "    grade = 1.5\n",
        "  elif score >= 85 and score < 89:\n",
        "    grade = 1.75\n",
        "  elif score >= 81 and score < 85:\n",
        "    grade = 2.0\n",
        "  elif score >= 77 and score < 81:\n",
        "    grade = 2.25\n",
        "  elif score >= 74 and score < 77:\n",
        "    grade = 2.5\n",
        "  else:\n",
        "    grade = 3.0\n",
        "  return grade\n",
        "\n",
        "score = int(input('Enter score: '))\n",
        "if score > 100 and score < 0:\n",
        "  print(\"Error\")\n",
        "\n",
        "else:\n",
        "  print(compute_grade(score))\n"
      ],
      "metadata": {
        "id": "t9GRl6e-2qhs",
        "colab": {
          "base_uri": "https://localhost:8080/"
        },
        "outputId": "20e45533-1858-4fef-e6b2-d638925f0ef4"
      },
      "execution_count": 8,
      "outputs": [
        {
          "output_type": "stream",
          "name": "stdout",
          "text": [
            "Enter score: 97\n",
            "1.0\n"
          ]
        }
      ]
    }
  ]
}