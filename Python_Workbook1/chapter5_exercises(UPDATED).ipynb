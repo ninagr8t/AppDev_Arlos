{
  "cells": [
    {
      "cell_type": "markdown",
      "metadata": {
        "id": "k_gwKhzJh05H"
      },
      "source": [
        "# ***ITERATION***"
      ]
    },
    {
      "cell_type": "markdown",
      "metadata": {
        "id": "gK3GBfO3h5Qq"
      },
      "source": [
        "Investigate on the difference between is and == given the following variables.\n",
        "```\n",
        "a = 2\n",
        "b = 2.0\n",
        "c = a\n",
        "```"
      ]
    },
    {
      "cell_type": "markdown",
      "source": [
        "\n",
        "The difference between 'is' and '==' is that 'is is used to check if the two variables are referring to the same object in memory. It will return 'true' if they do and 'false' otherwise. while the '==' is used to check if the two variables have the same value. It returns 'true' if they do and 'false' otherwise.\n",
        "\n",
        "\n"
      ],
      "metadata": {
        "id": "ADIdJhS-9WOT"
      }
    },
    {
      "cell_type": "markdown",
      "metadata": {
        "id": "nwBgTgk_H6Ta"
      },
      "source": [
        "# **CHALLENGE**"
      ]
    },
    {
      "cell_type": "markdown",
      "metadata": {
        "id": "XclBt6ysHzek"
      },
      "source": [
        "# **Challenge 1**\n",
        "Write a program which repeatedly reads numbers until the user enters \"done\". Once \"done\" is entered, print out the total, count, and average of the numbers. If the user enters anything other than a number, detect their mistake using try and except and print an error message and skip to the next number.\n",
        "```\n",
        "Enter a number: 4\n",
        "Enter a number: 5\n",
        "Enter a number: bad data\n",
        "Invalid input\n",
        "Enter a number: 7\n",
        "Enter a number: done\n",
        "16 3 5.333333333333333\n",
        "```\n"
      ]
    },
    {
      "cell_type": "code",
      "execution_count": 2,
      "metadata": {
        "id": "r33p20oZGeEE",
        "colab": {
          "base_uri": "https://localhost:8080/"
        },
        "outputId": "ebeb0fe4-57ec-4f40-bd69-ea61d154ba90"
      },
      "outputs": [
        {
          "output_type": "stream",
          "name": "stdout",
          "text": [
            "Enter a number: 4\n",
            "Enter a number: 5\n",
            "Enter a number: bad data\n",
            "invalid input\n",
            "Enter a number: 7\n",
            "Enter a number: done\n",
            "Total:16.0 Count:3 Average: 5.333333333333333\n"
          ]
        }
      ],
      "source": [
        "from string import digits\n",
        "\n",
        "total = 0\n",
        "count = 0\n",
        "\n",
        "while (True):\n",
        "  num = input(\"Enter a number: \")\n",
        "  if (num == 'done'):\n",
        "    break\n",
        "  elif num.isdigit():\n",
        "    number = float(num)\n",
        "    total += number\n",
        "    count += 1\n",
        "\n",
        "    continue\n",
        "\n",
        "  else:\n",
        "    print(\"invalid input\")\n",
        "\n",
        "if (total != 0):\n",
        "  print(f\"Total:{total} Count:{int(count)} Average: {total/count}\")\n",
        "\n"
      ]
    },
    {
      "cell_type": "markdown",
      "metadata": {
        "id": "a533pk9gO8sc"
      },
      "source": [
        "# **Challenge 2**\n",
        "Write another program that prompts for a list of numbers as above and at the end prints out both the maximum and minimum of the numbers instead of the average."
      ]
    },
    {
      "cell_type": "code",
      "execution_count": 1,
      "metadata": {
        "colab": {
          "base_uri": "https://localhost:8080/"
        },
        "id": "dlgBWcFuoFtt",
        "outputId": "b82213ad-73a7-45d4-a051-7fdbd4399329"
      },
      "outputs": [
        {
          "output_type": "stream",
          "name": "stdout",
          "text": [
            "Enter a number: abc\n",
            "Invalid Input.\n",
            "Enter a number: 10\n",
            "Enter a number: 20\n",
            "Enter a number: 30\n",
            "Enter a number: bad dat\n",
            "Invalid Input.\n",
            "Enter a number: done\n",
            "Maximum: 30.0 Minimum: 10.0\n"
          ]
        }
      ],
      "source": [
        "number = []\n",
        "count = 0\n",
        "max = None\n",
        "min = None\n",
        "\n",
        "while (True):\n",
        "  num = input(\"Enter a number: \")\n",
        "\n",
        "  if (num == 'done'):\n",
        "    break\n",
        "  elif num.isdigit():\n",
        "    number += [float(num)]\n",
        "    count += 1\n",
        "  else:\n",
        "    print(\"Invalid Input.\")\n",
        "\n",
        "if (count != 0):\n",
        "  for x in number:\n",
        "    if min is None:\n",
        "      min = x\n",
        "    elif x < min:\n",
        "      min = x\n",
        "    if max is None:\n",
        "      max = x\n",
        "    elif x > max:\n",
        "      max = x\n",
        "print(f\"Maximum: {max} Minimum: {min}\")\n"
      ]
    }
  ],
  "metadata": {
    "accelerator": "GPU",
    "colab": {
      "gpuType": "T4",
      "provenance": []
    },
    "kernelspec": {
      "display_name": "Python 3",
      "name": "python3"
    },
    "language_info": {
      "name": "python"
    }
  },
  "nbformat": 4,
  "nbformat_minor": 0
}